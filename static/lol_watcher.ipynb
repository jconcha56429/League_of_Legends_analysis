{
 "cells": [
  {
   "cell_type": "code",
   "execution_count": 3,
   "id": "da265034",
   "metadata": {},
   "outputs": [],
   "source": [
    "# imports\n",
    "from riotwatcher import LolWatcher, ApiError\n",
    "import pandas as pd\n",
    "import pprint\n",
    "from riotwatcher import LolWatcher, ApiError\n",
    "my_region = 'na1'\n",
    "from api_key import API_KEY\n",
    "\n",
    "lol_watcher = LolWatcher('RGAPI-f55710dc-860b-44e5-9a83-94dc12c85c43')"
   ]
  },
  {
   "cell_type": "code",
   "execution_count": null,
   "id": "69efca7c",
   "metadata": {},
   "outputs": [],
   "source": [
    "# select my riot puuid\n",
    "my_region = 'na1'\n",
    "me = lol_watcher.summoner.by_name(my_region, 'slayer56429')\n",
    "puid = me[\"puuid\"]\n",
    "print(puid)"
   ]
  },
  {
   "cell_type": "code",
   "execution_count": null,
   "id": "be0edd77",
   "metadata": {},
   "outputs": [],
   "source": [
    "# find last 30 ranked games\n",
    "match_hist = lol_watcher.match.matchlist_by_puuid(my_region,puid,count=30, queue = 420)"
   ]
  },
  {
   "cell_type": "code",
   "execution_count": null,
   "id": "971cbfe2",
   "metadata": {},
   "outputs": [],
   "source": [
    "# pretty print last game data\n",
    "last = lol_watcher.match.by_id(my_region,\"NA1_4493046493\")"
   ]
  },
  {
   "cell_type": "code",
   "execution_count": null,
   "id": "7d61f9f4",
   "metadata": {},
   "outputs": [],
   "source": [
    "# all participant data\n",
    "participants = last[\"info\"][\"participants\"]\n",
    "\n",
    "part_num = 0\n",
    "for p in participants:\n",
    "    print(f\"---------------------------------------Participant # {part_num}--------------------------------------------\")\n",
    "    part_num+=1\n",
    "    pprint.pprint(p)"
   ]
  },
  {
   "cell_type": "code",
   "execution_count": null,
   "id": "4143aa38",
   "metadata": {},
   "outputs": [],
   "source": [
    "# self data for loop\n",
    "for p in participants:\n",
    "    if puid in p['puuid']:\n",
    "        self_game_data = p\n"
   ]
  },
  {
   "cell_type": "code",
   "execution_count": null,
   "id": "bf1eff7b",
   "metadata": {},
   "outputs": [],
   "source": [
    "# remove challenges index\n",
    "from itertools import islice\n",
    "del self_game_data[next(islice(self_game_data, 7, None))]\n",
    "pprint.pprint(self_game_data)"
   ]
  },
  {
   "cell_type": "code",
   "execution_count": null,
   "id": "dc52cc2e",
   "metadata": {},
   "outputs": [],
   "source": [
    "#  remove perks key from dict\n",
    "runes = self_game_data.pop('perks', None)"
   ]
  },
  {
   "cell_type": "code",
   "execution_count": null,
   "id": "755db193",
   "metadata": {},
   "outputs": [],
   "source": [
    "# from rows to columns with .T\n",
    "self_game_data = pd.DataFrame.from_dict(self_game_data,orient='index')\n",
    "self_game_data.T"
   ]
  },
  {
   "cell_type": "code",
   "execution_count": null,
   "id": "b1509dfc",
   "metadata": {},
   "outputs": [],
   "source": [
    "# team data \n",
    "teams = last[\"info\"][\"teams\"]\n",
    "for t in teams:\n",
    "    pprint.pprint(t)"
   ]
  }
 ],
 "metadata": {
  "kernelspec": {
   "display_name": "Python 3 (ipykernel)",
   "language": "python",
   "name": "python3"
  },
  "language_info": {
   "codemirror_mode": {
    "name": "ipython",
    "version": 3
   },
   "file_extension": ".py",
   "mimetype": "text/x-python",
   "name": "python",
   "nbconvert_exporter": "python",
   "pygments_lexer": "ipython3",
   "version": "3.7.6"
  }
 },
 "nbformat": 4,
 "nbformat_minor": 5
}
